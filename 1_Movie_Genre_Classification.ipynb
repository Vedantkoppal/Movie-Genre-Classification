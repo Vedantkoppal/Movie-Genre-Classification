{
  "nbformat": 4,
  "nbformat_minor": 0,
  "metadata": {
    "colab": {
      "provenance": [],
      "gpuType": "T4"
    },
    "kernelspec": {
      "name": "python3",
      "display_name": "Python 3"
    },
    "language_info": {
      "name": "python"
    },
    "accelerator": "GPU"
  },
  "cells": [
    {
      "cell_type": "markdown",
      "source": [
        "##**Import Required Libraries**"
      ],
      "metadata": {
        "id": "cOyGe0t4ccDo"
      }
    },
    {
      "cell_type": "code",
      "execution_count": null,
      "metadata": {
        "id": "9NoNTBcm7mbo"
      },
      "outputs": [],
      "source": [
        "import pandas as pd\n",
        "import matplotlib.pyplot as plt\n",
        "import string\n",
        "from nltk.corpus import stopwords\n",
        "from nltk import word_tokenize\n",
        "from nltk.stem import WordNetLemmatizer\n",
        "import warnings\n",
        "warnings.filterwarnings('ignore')\n"
      ]
    },
    {
      "cell_type": "code",
      "source": [
        "from sklearn.model_selection import train_test_split\n",
        "from sklearn.metrics import confusion_matrix,classification_report\n",
        "from sklearn.feature_extraction.text import CountVectorizer, TfidfVectorizer\n",
        "from sklearn.ensemble import RandomForestClassifier\n",
        "from sklearn.metrics import confusion_matrix,classification_report"
      ],
      "metadata": {
        "id": "gLsbGcEKAtMf"
      },
      "execution_count": null,
      "outputs": []
    },
    {
      "cell_type": "code",
      "source": [
        "%matplotlib inline\n",
        "import itertools\n",
        "import seaborn as sns\n",
        "\n",
        "# from imblearn.over_sampling import SMOTE\n",
        "from sklearn.linear_model import LogisticRegression\n",
        "from sklearn.dummy import DummyClassifier\n",
        "from sklearn.model_selection import GridSearchCV\n",
        "from sklearn.pipeline import Pipeline\n",
        "from sklearn.naive_bayes import MultinomialNB\n",
        "from sklearn.naive_bayes import GaussianNB\n",
        "from sklearn.metrics import accuracy_score, f1_score, precision_score, recall_score, classification_report, confusion_matrix\n",
        "from wordcloud import WordCloud, STOPWORDS\n",
        "from sklearn.feature_extraction.text import TfidfVectorizer, CountVectorizer\n",
        "from sklearn.multiclass import OneVsRestClassifier\n",
        "from sklearn.ensemble import RandomForestClassifier\n",
        "from sklearn.tree import DecisionTreeClassifier\n",
        "from yellowbrick.text import FreqDistVisualizer\n",
        "from mlxtend.feature_selection import ColumnSelector"
      ],
      "metadata": {
        "id": "bnyB-guYAvNT"
      },
      "execution_count": null,
      "outputs": []
    },
    {
      "cell_type": "markdown",
      "source": [
        "##**Load Data**"
      ],
      "metadata": {
        "id": "PwDZ1bHfcvsH"
      }
    },
    {
      "cell_type": "code",
      "source": [
        "data=pd.read_csv('/content/drive/MyDrive/Movie_Genre_Dataset/train_data.txt', sep=\":::\", header=None, engine='python')"
      ],
      "metadata": {
        "id": "iizVG8ReAzmN"
      },
      "execution_count": null,
      "outputs": []
    },
    {
      "cell_type": "code",
      "source": [
        "data.columns=['id','Name','Genre','Plot']"
      ],
      "metadata": {
        "id": "7nTg6TvEBCgr"
      },
      "execution_count": null,
      "outputs": []
    },
    {
      "cell_type": "code",
      "source": [
        "data.head(5)"
      ],
      "metadata": {
        "colab": {
          "base_uri": "https://localhost:8080/",
          "height": 206
        },
        "id": "dFrSk0-CBErr",
        "outputId": "d3d830a0-9beb-4460-b863-aaad1bb9f652"
      },
      "execution_count": null,
      "outputs": [
        {
          "output_type": "execute_result",
          "data": {
            "text/plain": [
              "   id                                Name       Genre  \\\n",
              "0   1       Oscar et la dame rose (2009)       drama    \n",
              "1   2                       Cupid (1997)    thriller    \n",
              "2   3   Young, Wild and Wonderful (1980)       adult    \n",
              "3   4              The Secret Sin (1915)       drama    \n",
              "4   5             The Unrecovered (2007)       drama    \n",
              "\n",
              "                                                Plot  \n",
              "0   Listening in to a conversation between his do...  \n",
              "1   A brother and sister with a past incestuous r...  \n",
              "2   As the bus empties the students for their fie...  \n",
              "3   To help their unemployed father make ends mee...  \n",
              "4   The film's title refers not only to the un-re...  "
            ],
            "text/html": [
              "\n",
              "  <div id=\"df-508f3172-836d-423d-ab75-ad99bbedf151\" class=\"colab-df-container\">\n",
              "    <div>\n",
              "<style scoped>\n",
              "    .dataframe tbody tr th:only-of-type {\n",
              "        vertical-align: middle;\n",
              "    }\n",
              "\n",
              "    .dataframe tbody tr th {\n",
              "        vertical-align: top;\n",
              "    }\n",
              "\n",
              "    .dataframe thead th {\n",
              "        text-align: right;\n",
              "    }\n",
              "</style>\n",
              "<table border=\"1\" class=\"dataframe\">\n",
              "  <thead>\n",
              "    <tr style=\"text-align: right;\">\n",
              "      <th></th>\n",
              "      <th>id</th>\n",
              "      <th>Name</th>\n",
              "      <th>Genre</th>\n",
              "      <th>Plot</th>\n",
              "    </tr>\n",
              "  </thead>\n",
              "  <tbody>\n",
              "    <tr>\n",
              "      <th>0</th>\n",
              "      <td>1</td>\n",
              "      <td>Oscar et la dame rose (2009)</td>\n",
              "      <td>drama</td>\n",
              "      <td>Listening in to a conversation between his do...</td>\n",
              "    </tr>\n",
              "    <tr>\n",
              "      <th>1</th>\n",
              "      <td>2</td>\n",
              "      <td>Cupid (1997)</td>\n",
              "      <td>thriller</td>\n",
              "      <td>A brother and sister with a past incestuous r...</td>\n",
              "    </tr>\n",
              "    <tr>\n",
              "      <th>2</th>\n",
              "      <td>3</td>\n",
              "      <td>Young, Wild and Wonderful (1980)</td>\n",
              "      <td>adult</td>\n",
              "      <td>As the bus empties the students for their fie...</td>\n",
              "    </tr>\n",
              "    <tr>\n",
              "      <th>3</th>\n",
              "      <td>4</td>\n",
              "      <td>The Secret Sin (1915)</td>\n",
              "      <td>drama</td>\n",
              "      <td>To help their unemployed father make ends mee...</td>\n",
              "    </tr>\n",
              "    <tr>\n",
              "      <th>4</th>\n",
              "      <td>5</td>\n",
              "      <td>The Unrecovered (2007)</td>\n",
              "      <td>drama</td>\n",
              "      <td>The film's title refers not only to the un-re...</td>\n",
              "    </tr>\n",
              "  </tbody>\n",
              "</table>\n",
              "</div>\n",
              "    <div class=\"colab-df-buttons\">\n",
              "\n",
              "  <div class=\"colab-df-container\">\n",
              "    <button class=\"colab-df-convert\" onclick=\"convertToInteractive('df-508f3172-836d-423d-ab75-ad99bbedf151')\"\n",
              "            title=\"Convert this dataframe to an interactive table.\"\n",
              "            style=\"display:none;\">\n",
              "\n",
              "  <svg xmlns=\"http://www.w3.org/2000/svg\" height=\"24px\" viewBox=\"0 -960 960 960\">\n",
              "    <path d=\"M120-120v-720h720v720H120Zm60-500h600v-160H180v160Zm220 220h160v-160H400v160Zm0 220h160v-160H400v160ZM180-400h160v-160H180v160Zm440 0h160v-160H620v160ZM180-180h160v-160H180v160Zm440 0h160v-160H620v160Z\"/>\n",
              "  </svg>\n",
              "    </button>\n",
              "\n",
              "  <style>\n",
              "    .colab-df-container {\n",
              "      display:flex;\n",
              "      gap: 12px;\n",
              "    }\n",
              "\n",
              "    .colab-df-convert {\n",
              "      background-color: #E8F0FE;\n",
              "      border: none;\n",
              "      border-radius: 50%;\n",
              "      cursor: pointer;\n",
              "      display: none;\n",
              "      fill: #1967D2;\n",
              "      height: 32px;\n",
              "      padding: 0 0 0 0;\n",
              "      width: 32px;\n",
              "    }\n",
              "\n",
              "    .colab-df-convert:hover {\n",
              "      background-color: #E2EBFA;\n",
              "      box-shadow: 0px 1px 2px rgba(60, 64, 67, 0.3), 0px 1px 3px 1px rgba(60, 64, 67, 0.15);\n",
              "      fill: #174EA6;\n",
              "    }\n",
              "\n",
              "    .colab-df-buttons div {\n",
              "      margin-bottom: 4px;\n",
              "    }\n",
              "\n",
              "    [theme=dark] .colab-df-convert {\n",
              "      background-color: #3B4455;\n",
              "      fill: #D2E3FC;\n",
              "    }\n",
              "\n",
              "    [theme=dark] .colab-df-convert:hover {\n",
              "      background-color: #434B5C;\n",
              "      box-shadow: 0px 1px 3px 1px rgba(0, 0, 0, 0.15);\n",
              "      filter: drop-shadow(0px 1px 2px rgba(0, 0, 0, 0.3));\n",
              "      fill: #FFFFFF;\n",
              "    }\n",
              "  </style>\n",
              "\n",
              "    <script>\n",
              "      const buttonEl =\n",
              "        document.querySelector('#df-508f3172-836d-423d-ab75-ad99bbedf151 button.colab-df-convert');\n",
              "      buttonEl.style.display =\n",
              "        google.colab.kernel.accessAllowed ? 'block' : 'none';\n",
              "\n",
              "      async function convertToInteractive(key) {\n",
              "        const element = document.querySelector('#df-508f3172-836d-423d-ab75-ad99bbedf151');\n",
              "        const dataTable =\n",
              "          await google.colab.kernel.invokeFunction('convertToInteractive',\n",
              "                                                    [key], {});\n",
              "        if (!dataTable) return;\n",
              "\n",
              "        const docLinkHtml = 'Like what you see? Visit the ' +\n",
              "          '<a target=\"_blank\" href=https://colab.research.google.com/notebooks/data_table.ipynb>data table notebook</a>'\n",
              "          + ' to learn more about interactive tables.';\n",
              "        element.innerHTML = '';\n",
              "        dataTable['output_type'] = 'display_data';\n",
              "        await google.colab.output.renderOutput(dataTable, element);\n",
              "        const docLink = document.createElement('div');\n",
              "        docLink.innerHTML = docLinkHtml;\n",
              "        element.appendChild(docLink);\n",
              "      }\n",
              "    </script>\n",
              "  </div>\n",
              "\n",
              "\n",
              "<div id=\"df-990ddf63-9e6c-4c3a-a11a-77817c0ab7c3\">\n",
              "  <button class=\"colab-df-quickchart\" onclick=\"quickchart('df-990ddf63-9e6c-4c3a-a11a-77817c0ab7c3')\"\n",
              "            title=\"Suggest charts.\"\n",
              "            style=\"display:none;\">\n",
              "\n",
              "<svg xmlns=\"http://www.w3.org/2000/svg\" height=\"24px\"viewBox=\"0 0 24 24\"\n",
              "     width=\"24px\">\n",
              "    <g>\n",
              "        <path d=\"M19 3H5c-1.1 0-2 .9-2 2v14c0 1.1.9 2 2 2h14c1.1 0 2-.9 2-2V5c0-1.1-.9-2-2-2zM9 17H7v-7h2v7zm4 0h-2V7h2v10zm4 0h-2v-4h2v4z\"/>\n",
              "    </g>\n",
              "</svg>\n",
              "  </button>\n",
              "\n",
              "<style>\n",
              "  .colab-df-quickchart {\n",
              "    background-color: #E8F0FE;\n",
              "    border: none;\n",
              "    border-radius: 50%;\n",
              "    cursor: pointer;\n",
              "    display: none;\n",
              "    fill: #1967D2;\n",
              "    height: 32px;\n",
              "    padding: 0 0 0 0;\n",
              "    width: 32px;\n",
              "  }\n",
              "\n",
              "  .colab-df-quickchart:hover {\n",
              "    background-color: #E2EBFA;\n",
              "    box-shadow: 0px 1px 2px rgba(60, 64, 67, 0.3), 0px 1px 3px 1px rgba(60, 64, 67, 0.15);\n",
              "    fill: #174EA6;\n",
              "  }\n",
              "\n",
              "  [theme=dark] .colab-df-quickchart {\n",
              "    background-color: #3B4455;\n",
              "    fill: #D2E3FC;\n",
              "  }\n",
              "\n",
              "  [theme=dark] .colab-df-quickchart:hover {\n",
              "    background-color: #434B5C;\n",
              "    box-shadow: 0px 1px 3px 1px rgba(0, 0, 0, 0.15);\n",
              "    filter: drop-shadow(0px 1px 2px rgba(0, 0, 0, 0.3));\n",
              "    fill: #FFFFFF;\n",
              "  }\n",
              "</style>\n",
              "\n",
              "  <script>\n",
              "    async function quickchart(key) {\n",
              "      const charts = await google.colab.kernel.invokeFunction(\n",
              "          'suggestCharts', [key], {});\n",
              "    }\n",
              "    (() => {\n",
              "      let quickchartButtonEl =\n",
              "        document.querySelector('#df-990ddf63-9e6c-4c3a-a11a-77817c0ab7c3 button');\n",
              "      quickchartButtonEl.style.display =\n",
              "        google.colab.kernel.accessAllowed ? 'block' : 'none';\n",
              "    })();\n",
              "  </script>\n",
              "</div>\n",
              "    </div>\n",
              "  </div>\n"
            ]
          },
          "metadata": {},
          "execution_count": 6
        }
      ]
    },
    {
      "cell_type": "markdown",
      "source": [
        "##**EDA**"
      ],
      "metadata": {
        "id": "XbT8Nj_V4Uue"
      }
    },
    {
      "cell_type": "code",
      "source": [
        "plt.figure(figsize=(12, 8))\n",
        "counts = data['Genre'].value_counts()\n",
        "plt.bar(counts.index, counts)\n",
        "plt.xlabel('Genre')\n",
        "plt.ylabel('Count')\n",
        "plt.xticks(rotation=90)\n",
        "plt.show()"
      ],
      "metadata": {
        "colab": {
          "base_uri": "https://localhost:8080/",
          "height": 737
        },
        "id": "ySyCvARnBJ7D",
        "outputId": "10ab0f01-cd5d-4f84-9792-c171cf76d9d7"
      },
      "execution_count": null,
      "outputs": [
        {
          "output_type": "display_data",
          "data": {
            "text/plain": [
              "<Figure size 1200x800 with 1 Axes>"
            ],
            "image/png": "[encoded data removed]"
          },
          "metadata": {}
        }
      ]
    },
    {
      "cell_type": "code",
      "source": [
        "counts.index"
      ],
      "metadata": {
        "colab": {
          "base_uri": "https://localhost:8080/"
        },
        "id": "IYy9XHFeCIoj",
        "outputId": "346736ee-820f-4142-ef50-71b812f06c03"
      },
      "execution_count": null,
      "outputs": [
        {
          "output_type": "execute_result",
          "data": {
            "text/plain": [
              "Index([' drama ', ' documentary ', ' comedy ', ' short ', ' horror ',\n",
              "       ' thriller ', ' action ', ' western ', ' reality-tv ', ' family ',\n",
              "       ' adventure ', ' music ', ' sci-fi ', ' romance ', ' adult ',\n",
              "       ' animation ', ' crime ', ' sport ', ' talk-show ', ' fantasy ',\n",
              "       ' mystery ', ' musical ', ' biography ', ' history ', ' game-show ',\n",
              "       ' news ', ' war '],\n",
              "      dtype='object')"
            ]
          },
          "metadata": {},
          "execution_count": 8
        }
      ]
    },
    {
      "cell_type": "code",
      "source": [],
      "metadata": {
        "id": "gZ-uYmiuewli"
      },
      "execution_count": null,
      "outputs": []
    },
    {
      "cell_type": "markdown",
      "source": [
        "##**As there are too many genre for classification we are taking only top 6 genres which are relatively larger than other generes**"
      ],
      "metadata": {
        "id": "BQscw9fxc9F5"
      }
    },
    {
      "cell_type": "code",
      "source": [
        "allowed_genres = [' drama ', ' documentary ', ' comedy ', ' short ', ' horror ',\n",
        "       ' thriller ']\n",
        "filtered_df = data[data['Genre'].isin(allowed_genres)]"
      ],
      "metadata": {
        "id": "UdRVbtqHBOZw"
      },
      "execution_count": null,
      "outputs": []
    },
    {
      "cell_type": "code",
      "source": [
        "filtered_df.head(5)"
      ],
      "metadata": {
        "colab": {
          "base_uri": "https://localhost:8080/",
          "height": 206
        },
        "id": "Z95gF1sBDJE7",
        "outputId": "6107a45c-c720-428a-ccdc-f0508635e593"
      },
      "execution_count": null,
      "outputs": [
        {
          "output_type": "execute_result",
          "data": {
            "text/plain": [
              "   id                            Name          Genre  \\\n",
              "0   1   Oscar et la dame rose (2009)          drama    \n",
              "1   2                   Cupid (1997)       thriller    \n",
              "3   4          The Secret Sin (1915)          drama    \n",
              "4   5         The Unrecovered (2007)          drama    \n",
              "5   6         Quality Control (2011)    documentary    \n",
              "\n",
              "                                                Plot  \n",
              "0   Listening in to a conversation between his do...  \n",
              "1   A brother and sister with a past incestuous r...  \n",
              "3   To help their unemployed father make ends mee...  \n",
              "4   The film's title refers not only to the un-re...  \n",
              "5   Quality Control consists of a series of 16mm ...  "
            ],
            "text/html": [
              "\n",
              "  <div id=\"df-477eb6bc-8e3d-43a4-b0e9-a5fb181e4ddb\" class=\"colab-df-container\">\n",
              "    <div>\n",
              "<style scoped>\n",
              "    .dataframe tbody tr th:only-of-type {\n",
              "        vertical-align: middle;\n",
              "    }\n",
              "\n",
              "    .dataframe tbody tr th {\n",
              "        vertical-align: top;\n",
              "    }\n",
              "\n",
              "    .dataframe thead th {\n",
              "        text-align: right;\n",
              "    }\n",
              "</style>\n",
              "<table border=\"1\" class=\"dataframe\">\n",
              "  <thead>\n",
              "    <tr style=\"text-align: right;\">\n",
              "      <th></th>\n",
              "      <th>id</th>\n",
              "      <th>Name</th>\n",
              "      <th>Genre</th>\n",
              "      <th>Plot</th>\n",
              "    </tr>\n",
              "  </thead>\n",
              "  <tbody>\n",
              "    <tr>\n",
              "      <th>0</th>\n",
              "      <td>1</td>\n",
              "      <td>Oscar et la dame rose (2009)</td>\n",
              "      <td>drama</td>\n",
              "      <td>Listening in to a conversation between his do...</td>\n",
              "    </tr>\n",
              "    <tr>\n",
              "      <th>1</th>\n",
              "      <td>2</td>\n",
              "      <td>Cupid (1997)</td>\n",
              "      <td>thriller</td>\n",
              "      <td>A brother and sister with a past incestuous r...</td>\n",
              "    </tr>\n",
              "    <tr>\n",
              "      <th>3</th>\n",
              "      <td>4</td>\n",
              "      <td>The Secret Sin (1915)</td>\n",
              "      <td>drama</td>\n",
              "      <td>To help their unemployed father make ends mee...</td>\n",
              "    </tr>\n",
              "    <tr>\n",
              "      <th>4</th>\n",
              "      <td>5</td>\n",
              "      <td>The Unrecovered (2007)</td>\n",
              "      <td>drama</td>\n",
              "      <td>The film's title refers not only to the un-re...</td>\n",
              "    </tr>\n",
              "    <tr>\n",
              "      <th>5</th>\n",
              "      <td>6</td>\n",
              "      <td>Quality Control (2011)</td>\n",
              "      <td>documentary</td>\n",
              "      <td>Quality Control consists of a series of 16mm ...</td>\n",
              "    </tr>\n",
              "  </tbody>\n",
              "</table>\n",
              "</div>\n",
              "    <div class=\"colab-df-buttons\">\n",
              "\n",
              "  <div class=\"colab-df-container\">\n",
              "    <button class=\"colab-df-convert\" onclick=\"convertToInteractive('df-477eb6bc-8e3d-43a4-b0e9-a5fb181e4ddb')\"\n",
              "            title=\"Convert this dataframe to an interactive table.\"\n",
              "            style=\"display:none;\">\n",
              "\n",
              "  <svg xmlns=\"http://www.w3.org/2000/svg\" height=\"24px\" viewBox=\"0 -960 960 960\">\n",
              "    <path d=\"M120-120v-720h720v720H120Zm60-500h600v-160H180v160Zm220 220h160v-160H400v160Zm0 220h160v-160H400v160ZM180-400h160v-160H180v160Zm440 0h160v-160H620v160ZM180-180h160v-160H180v160Zm440 0h160v-160H620v160Z\"/>\n",
              "  </svg>\n",
              "    </button>\n",
              "\n",
              "  <style>\n",
              "    .colab-df-container {\n",
              "      display:flex;\n",
              "      gap: 12px;\n",
              "    }\n",
              "\n",
              "    .colab-df-convert {\n",
              "      background-color: #E8F0FE;\n",
              "      border: none;\n",
              "      border-radius: 50%;\n",
              "      cursor: pointer;\n",
              "      display: none;\n",
              "      fill: #1967D2;\n",
              "      height: 32px;\n",
              "      padding: 0 0 0 0;\n",
              "      width: 32px;\n",
              "    }\n",
              "\n",
              "    .colab-df-convert:hover {\n",
              "      background-color: #E2EBFA;\n",
              "      box-shadow: 0px 1px 2px rgba(60, 64, 67, 0.3), 0px 1px 3px 1px rgba(60, 64, 67, 0.15);\n",
              "      fill: #174EA6;\n",
              "    }\n",
              "\n",
              "    .colab-df-buttons div {\n",
              "      margin-bottom: 4px;\n",
              "    }\n",
              "\n",
              "    [theme=dark] .colab-df-convert {\n",
              "      background-color: #3B4455;\n",
              "      fill: #D2E3FC;\n",
              "    }\n",
              "\n",
              "    [theme=dark] .colab-df-convert:hover {\n",
              "      background-color: #434B5C;\n",
              "      box-shadow: 0px 1px 3px 1px rgba(0, 0, 0, 0.15);\n",
              "      filter: drop-shadow(0px 1px 2px rgba(0, 0, 0, 0.3));\n",
              "      fill: #FFFFFF;\n",
              "    }\n",
              "  </style>\n",
              "\n",
              "    <script>\n",
              "      const buttonEl =\n",
              "        document.querySelector('#df-477eb6bc-8e3d-43a4-b0e9-a5fb181e4ddb button.colab-df-convert');\n",
              "      buttonEl.style.display =\n",
              "        google.colab.kernel.accessAllowed ? 'block' : 'none';\n",
              "\n",
              "      async function convertToInteractive(key) {\n",
              "        const element = document.querySelector('#df-477eb6bc-8e3d-43a4-b0e9-a5fb181e4ddb');\n",
              "        const dataTable =\n",
              "          await google.colab.kernel.invokeFunction('convertToInteractive',\n",
              "                                                    [key], {});\n",
              "        if (!dataTable) return;\n",
              "\n",
              "        const docLinkHtml = 'Like what you see? Visit the ' +\n",
              "          '<a target=\"_blank\" href=https://colab.research.google.com/notebooks/data_table.ipynb>data table notebook</a>'\n",
              "          + ' to learn more about interactive tables.';\n",
              "        element.innerHTML = '';\n",
              "        dataTable['output_type'] = 'display_data';\n",
              "        await google.colab.output.renderOutput(dataTable, element);\n",
              "        const docLink = document.createElement('div');\n",
              "        docLink.innerHTML = docLinkHtml;\n",
              "        element.appendChild(docLink);\n",
              "      }\n",
              "    </script>\n",
              "  </div>\n",
              "\n",
              "\n",
              "<div id=\"df-52cfb702-7c54-46e8-8b17-c695c466a773\">\n",
              "  <button class=\"colab-df-quickchart\" onclick=\"quickchart('df-52cfb702-7c54-46e8-8b17-c695c466a773')\"\n",
              "            title=\"Suggest charts.\"\n",
              "            style=\"display:none;\">\n",
              "\n",
              "<svg xmlns=\"http://www.w3.org/2000/svg\" height=\"24px\"viewBox=\"0 0 24 24\"\n",
              "     width=\"24px\">\n",
              "    <g>\n",
              "        <path d=\"M19 3H5c-1.1 0-2 .9-2 2v14c0 1.1.9 2 2 2h14c1.1 0 2-.9 2-2V5c0-1.1-.9-2-2-2zM9 17H7v-7h2v7zm4 0h-2V7h2v10zm4 0h-2v-4h2v4z\"/>\n",
              "    </g>\n",
              "</svg>\n",
              "  </button>\n",
              "\n",
              "<style>\n",
              "  .colab-df-quickchart {\n",
              "    background-color: #E8F0FE;\n",
              "    border: none;\n",
              "    border-radius: 50%;\n",
              "    cursor: pointer;\n",
              "    display: none;\n",
              "    fill: #1967D2;\n",
              "    height: 32px;\n",
              "    padding: 0 0 0 0;\n",
              "    width: 32px;\n",
              "  }\n",
              "\n",
              "  .colab-df-quickchart:hover {\n",
              "    background-color: #E2EBFA;\n",
              "    box-shadow: 0px 1px 2px rgba(60, 64, 67, 0.3), 0px 1px 3px 1px rgba(60, 64, 67, 0.15);\n",
              "    fill: #174EA6;\n",
              "  }\n",
              "\n",
              "  [theme=dark] .colab-df-quickchart {\n",
              "    background-color: #3B4455;\n",
              "    fill: #D2E3FC;\n",
              "  }\n",
              "\n",
              "  [theme=dark] .colab-df-quickchart:hover {\n",
              "    background-color: #434B5C;\n",
              "    box-shadow: 0px 1px 3px 1px rgba(0, 0, 0, 0.15);\n",
              "    filter: drop-shadow(0px 1px 2px rgba(0, 0, 0, 0.3));\n",
              "    fill: #FFFFFF;\n",
              "  }\n",
              "</style>\n",
              "\n",
              "  <script>\n",
              "    async function quickchart(key) {\n",
              "      const charts = await google.colab.kernel.invokeFunction(\n",
              "          'suggestCharts', [key], {});\n",
              "    }\n",
              "    (() => {\n",
              "      let quickchartButtonEl =\n",
              "        document.querySelector('#df-52cfb702-7c54-46e8-8b17-c695c466a773 button');\n",
              "      quickchartButtonEl.style.display =\n",
              "        google.colab.kernel.accessAllowed ? 'block' : 'none';\n",
              "    })();\n",
              "  </script>\n",
              "</div>\n",
              "    </div>\n",
              "  </div>\n"
            ]
          },
          "metadata": {},
          "execution_count": 10
        }
      ]
    },
    {
      "cell_type": "code",
      "source": [
        "plt.figure(figsize=(12, 8))\n",
        "new_counts = filtered_df['Genre'].value_counts()\n",
        "plt.bar(new_counts.index, new_counts)\n",
        "plt.xlabel('Genre')\n",
        "plt.ylabel('Count')\n",
        "plt.xticks(rotation=90)\n",
        "plt.show()"
      ],
      "metadata": {
        "colab": {
          "base_uri": "https://localhost:8080/",
          "height": 737
        },
        "id": "jYT-H5rGCw7H",
        "outputId": "4e59f301-0d60-40ea-fb12-8cd0f94d5b09"
      },
      "execution_count": null,
      "outputs": [
        {
          "output_type": "display_data",
          "data": {
            "text/plain": [
              "<Figure size 1200x800 with 1 Axes>"
            ],
            "image/png": "[encoded data removed]"
          },
          "metadata": {}
        }
      ]
    },
    {
      "cell_type": "markdown",
      "source": [
        "##**Preprocessing Data**"
      ],
      "metadata": {
        "id": "jdij2JFiezl9"
      }
    },
    {
      "cell_type": "markdown",
      "source": [
        "**1.Stripping data**"
      ],
      "metadata": {
        "id": "jIzneop8fcHQ"
      }
    },
    {
      "cell_type": "code",
      "source": [
        "filtered_df['Genre'].map(lambda x:str.strip(x))"
      ],
      "metadata": {
        "colab": {
          "base_uri": "https://localhost:8080/"
        },
        "id": "_HIuluycDELF",
        "outputId": "4109f91d-ed60-494d-96fe-2d36c4246e6e"
      },
      "execution_count": null,
      "outputs": [
        {
          "output_type": "execute_result",
          "data": {
            "text/plain": [
              "0              drama\n",
              "1           thriller\n",
              "3              drama\n",
              "4              drama\n",
              "5        documentary\n",
              "            ...     \n",
              "17545    documentary\n",
              "17546          short\n",
              "17549          drama\n",
              "17550          drama\n",
              "17551         comedy\n",
              "Name: Genre, Length: 13920, dtype: object"
            ]
          },
          "metadata": {},
          "execution_count": 12
        }
      ]
    },
    {
      "cell_type": "markdown",
      "source": [
        "**2.Applying NLP**"
      ],
      "metadata": {
        "id": "TuXjN635EGZh"
      }
    },
    {
      "cell_type": "code",
      "source": [
        "import nltk\n",
        "nltk.download('stopwords')\n",
        "nltk.download('punkt')\n",
        "nltk.download('wordnet')"
      ],
      "metadata": {
        "colab": {
          "base_uri": "https://localhost:8080/"
        },
        "id": "mX-39b0AEBmi",
        "outputId": "7f5b6d16-d123-4546-cdd5-e86abb0aba7d"
      },
      "execution_count": null,
      "outputs": [
        {
          "output_type": "stream",
          "name": "stderr",
          "text": [
            "[nltk_data] Downloading package stopwords to /root/nltk_data...\n",
            "[nltk_data]   Unzipping corpora/stopwords.zip.\n",
            "[nltk_data] Downloading package punkt to /root/nltk_data...\n",
            "[nltk_data]   Unzipping tokenizers/punkt.zip.\n",
            "[nltk_data] Downloading package wordnet to /root/nltk_data...\n"
          ]
        },
        {
          "output_type": "execute_result",
          "data": {
            "text/plain": [
              "True"
            ]
          },
          "metadata": {},
          "execution_count": 13
        }
      ]
    },
    {
      "cell_type": "code",
      "source": [
        "en_stopwords = stopwords.words('english')\n",
        "en_stopwords+=['one', 'two', 'go','goes', 'get', 'also', 'however', 'tells',''''s''']\n",
        "en_stopwords += list(string.punctuation)\n",
        "\n",
        "# Initialize WordNet Lemmatizer\n",
        "lemmatizer = WordNetLemmatizer()"
      ],
      "metadata": {
        "id": "gdePJL6NEbh-"
      },
      "execution_count": null,
      "outputs": []
    },
    {
      "cell_type": "code",
      "source": [
        "def clean_text(text):\n",
        "    text=text.lower()   #Lowercasing all text\n",
        "    text=word_tokenize(text)  #Tokenization\n",
        "    text=[w for w in text if w not in en_stopwords]  #Stopwords Filtering\n",
        "    text = [lemmatizer.lemmatize(w) for w in text]\n",
        "    text=' '.join(text)  #Reform sentence\n",
        "    return text"
      ],
      "metadata": {
        "id": "arHP8xInExXb"
      },
      "execution_count": null,
      "outputs": []
    },
    {
      "cell_type": "code",
      "source": [
        "sample_text=filtered_df['Plot'][3]\n",
        "sample_text"
      ],
      "metadata": {
        "colab": {
          "base_uri": "https://localhost:8080/",
          "height": 163
        },
        "id": "dNL5JOqxFOMA",
        "outputId": "c483878b-8890-4ded-b496-985d1cd72bf9"
      },
      "execution_count": null,
      "outputs": [
        {
          "output_type": "execute_result",
          "data": {
            "text/plain": [
              "\" To help their unemployed father make ends meet, Edith and her twin sister Grace work as seamstresses . An invalid, Grace falls prey to the temptations of Chinatown opium and becomes an addict, a condition worsened by a misguided physician who prescribes morphine to ease her pain. When their father strikes oil, the family enjoys a new prosperity and the sisters meet the eligible Jack Herron, a fellow oil prospector. To Grace's shock, Jack falls in love with Edith and in her jealousy, Grace tells Jack that Edith, not she, has a drug problem. Hinting that her sister will soon need more morphine, Grace arranges for a dinner in Chinatown with the couple. While her sister and Jack dance, Grace slips away to an opium den. Edith follows her, but ends up in the wrong den and is arrested in an ensuing drug raid. After he bails her out of jail, Edith takes an angry Jack to search for Grace and stumbles across her half-conscious body lying in the street. The truth about the sisters is revealed, and after sending Grace to a sanitarium in the country, Jack and Edith are married.\""
            ],
            "application/vnd.google.colaboratory.intrinsic+json": {
              "type": "string"
            }
          },
          "metadata": {},
          "execution_count": 16
        }
      ]
    },
    {
      "cell_type": "code",
      "source": [
        "clean_text(sample_text)"
      ],
      "metadata": {
        "colab": {
          "base_uri": "https://localhost:8080/",
          "height": 127
        },
        "id": "ARqR6Kp-FWyu",
        "outputId": "0a39c65a-2305-4dae-ab71-a77073f95d13"
      },
      "execution_count": null,
      "outputs": [
        {
          "output_type": "execute_result",
          "data": {
            "text/plain": [
              "'help unemployed father make end meet edith twin sister grace work seamstress invalid grace fall prey temptation chinatown opium becomes addict condition worsened misguided physician prescribes morphine ease pain father strike oil family enjoys new prosperity sister meet eligible jack herron fellow oil prospector grace shock jack fall love edith jealousy grace jack edith drug problem hinting sister soon need morphine grace arranges dinner chinatown couple sister jack dance grace slip away opium den edith follows end wrong den arrested ensuing drug raid bail jail edith take angry jack search grace stumble across half-conscious body lying street truth sister revealed sending grace sanitarium country jack edith married'"
            ],
            "application/vnd.google.colaboratory.intrinsic+json": {
              "type": "string"
            }
          },
          "metadata": {},
          "execution_count": 17
        }
      ]
    },
    {
      "cell_type": "code",
      "source": [
        "filtered_df['Plot'].map(lambda x:clean_text(x))"
      ],
      "metadata": {
        "colab": {
          "base_uri": "https://localhost:8080/"
        },
        "id": "Zp8Yp_WRFY6e",
        "outputId": "c8452c69-234f-4110-aead-f939c8fb0e23"
      },
      "execution_count": null,
      "outputs": [
        {
          "output_type": "execute_result",
          "data": {
            "text/plain": [
              "0        listening conversation doctor parent 10-year-o...\n",
              "1        brother sister past incestuous relationship cu...\n",
              "3        help unemployed father make end meet edith twi...\n",
              "4        film title refers un-recovered body ground zer...\n",
              "5        quality control consists series 16mm single ta...\n",
              "                               ...                        \n",
              "17545    arlington history four part series chronicling...\n",
              "17546    series time lapse intertwine reveal city bustl...\n",
              "17549    anniversary tragic accident four adult reunite...\n",
              "17550    josutty son joseph shoshamma belongs middle cl...\n",
              "17551                                             good-nat\n",
              "Name: Plot, Length: 13920, dtype: object"
            ]
          },
          "metadata": {},
          "execution_count": 18
        }
      ]
    },
    {
      "cell_type": "markdown",
      "source": [
        "##**Splitting Text**"
      ],
      "metadata": {
        "id": "DG7FuWBGHYOw"
      }
    },
    {
      "cell_type": "code",
      "source": [
        "X_train, X_test , y_train, y_test = train_test_split(filtered_df['Plot'].values,filtered_df['Genre'].values,test_size=0.25,random_state=123,stratify=filtered_df['Genre'].values)"
      ],
      "metadata": {
        "id": "lBPIATIcFmnN"
      },
      "execution_count": null,
      "outputs": []
    },
    {
      "cell_type": "markdown",
      "source": [
        "##**Vectorising Text so that it can be fed to ML algos**"
      ],
      "metadata": {
        "id": "zOsLDrzGgTja"
      }
    },
    {
      "cell_type": "markdown",
      "source": [
        "**Here I am using two vectorisers for accuraacy**"
      ],
      "metadata": {
        "id": "Xp57RBCNhQvL"
      }
    },
    {
      "cell_type": "markdown",
      "source": [
        "**1.Count Vactorizer**"
      ],
      "metadata": {
        "id": "Z2H0XZ6pLm2g"
      }
    },
    {
      "cell_type": "code",
      "source": [
        "countvec = CountVectorizer(ngram_range = (1,3), max_features = 30000)\n",
        "vec_Xtr = countvec.fit_transform(X_train)\n"
      ],
      "metadata": {
        "id": "ut0OPhUOLrQV"
      },
      "execution_count": null,
      "outputs": []
    },
    {
      "cell_type": "markdown",
      "source": [
        "**2.TF-IDF Vectorizer**"
      ],
      "metadata": {
        "id": "FQGBoa19JEDX"
      }
    },
    {
      "cell_type": "code",
      "source": [
        "tfidf_vectorizer = TfidfVectorizer()\n",
        "\n",
        "tfidf_train_vectors = tfidf_vectorizer.fit_transform(X_train)\n",
        "\n",
        "tfidf_test_vectors = tfidf_vectorizer.transform(X_test)"
      ],
      "metadata": {
        "id": "0376-3vlJHRT"
      },
      "execution_count": null,
      "outputs": []
    },
    {
      "cell_type": "markdown",
      "source": [
        "##**Training Models**"
      ],
      "metadata": {
        "id": "5et_ooxQ44As"
      }
    },
    {
      "cell_type": "markdown",
      "source": [
        "I will be using Dummy Grid in all of the machine learning algos folowing\n",
        "\n",
        "---\n",
        "The Dummy Grid will find best parameters to be passed to ML algo in ortder to get best scores of each Algo\n"
      ],
      "metadata": {
        "id": "04pRPrmt7BXI"
      }
    },
    {
      "cell_type": "markdown",
      "source": [
        "**1. Dummy Grid Classifier**"
      ],
      "metadata": {
        "id": "rUfkizUdIkUz"
      }
    },
    {
      "cell_type": "code",
      "source": [
        "dummy_grid = {\n",
        "    'strategy': ['most_frequent', 'stratified', 'prior', 'uniform']\n",
        "}\n",
        "dummy = DummyClassifier( random_state = 42)\n",
        "dummy_gs = GridSearchCV(dummy, param_grid = dummy_grid, cv = 5)\n",
        "dummy_gs.fit(X_train, y_train)\n",
        "print(dummy_gs.best_score_)"
      ],
      "metadata": {
        "colab": {
          "base_uri": "https://localhost:8080/"
        },
        "id": "Weq7ru8AHqUs",
        "outputId": "45ae4249-8a34-4cff-b2a7-367b10aadd9d"
      },
      "execution_count": null,
      "outputs": [
        {
          "output_type": "stream",
          "name": "stdout",
          "text": [
            "0.3153256704980843\n"
          ]
        }
      ]
    },
    {
      "cell_type": "markdown",
      "source": [
        "Dummy Grid Accuracy: 0.315\n",
        "\n",
        "---\n",
        "This can be considered as our minimum accuracy limit\n"
      ],
      "metadata": {
        "id": "7bVvoyPc5Bsv"
      }
    },
    {
      "cell_type": "markdown",
      "source": [
        "**2. Naive Bayes- TFIDF**"
      ],
      "metadata": {
        "id": "5t43EvFbIwXA"
      }
    },
    {
      "cell_type": "code",
      "source": [
        "model_resultstfidf = {}\n",
        "mnb = MultinomialNB()\n",
        "\n",
        "mnb.fit(tfidf_train_vectors,y_train)"
      ],
      "metadata": {
        "colab": {
          "base_uri": "https://localhost:8080/",
          "height": 74
        },
        "id": "NfsHCp_LW4ex",
        "outputId": "04186e75-a862-4080-de28-231d14048751"
      },
      "execution_count": null,
      "outputs": [
        {
          "output_type": "execute_result",
          "data": {
            "text/plain": [
              "MultinomialNB()"
            ],
            "text/html": [
              "<style>#sk-container-id-1 {color: black;background-color: white;}#sk-container-id-1 pre{padding: 0;}#sk-container-id-1 div.sk-toggleable {background-color: white;}#sk-container-id-1 label.sk-toggleable__label {cursor: pointer;display: block;width: 100%;margin-bottom: 0;padding: 0.3em;box-sizing: border-box;text-align: center;}#sk-container-id-1 label.sk-toggleable__label-arrow:before {content: \"▸\";float: left;margin-right: 0.25em;color: #696969;}#sk-container-id-1 label.sk-toggleable__label-arrow:hover:before {color: black;}#sk-container-id-1 div.sk-estimator:hover label.sk-toggleable__label-arrow:before {color: black;}#sk-container-id-1 div.sk-toggleable__content {max-height: 0;max-width: 0;overflow: hidden;text-align: left;background-color: #f0f8ff;}#sk-container-id-1 div.sk-toggleable__content pre {margin: 0.2em;color: black;border-radius: 0.25em;background-color: #f0f8ff;}#sk-container-id-1 input.sk-toggleable__control:checked~div.sk-toggleable__content {max-height: 200px;max-width: 100%;overflow: auto;}#sk-container-id-1 input.sk-toggleable__control:checked~label.sk-toggleable__label-arrow:before {content: \"▾\";}#sk-container-id-1 div.sk-estimator input.sk-toggleable__control:checked~label.sk-toggleable__label {background-color: #d4ebff;}#sk-container-id-1 div.sk-label input.sk-toggleable__control:checked~label.sk-toggleable__label {background-color: #d4ebff;}#sk-container-id-1 input.sk-hidden--visually {border: 0;clip: rect(1px 1px 1px 1px);clip: rect(1px, 1px, 1px, 1px);height: 1px;margin: -1px;overflow: hidden;padding: 0;position: absolute;width: 1px;}#sk-container-id-1 div.sk-estimator {font-family: monospace;background-color: #f0f8ff;border: 1px dotted black;border-radius: 0.25em;box-sizing: border-box;margin-bottom: 0.5em;}#sk-container-id-1 div.sk-estimator:hover {background-color: #d4ebff;}#sk-container-id-1 div.sk-parallel-item::after {content: \"\";width: 100%;border-bottom: 1px solid gray;flex-grow: 1;}#sk-container-id-1 div.sk-label:hover label.sk-toggleable__label {background-color: #d4ebff;}#sk-container-id-1 div.sk-serial::before {content: \"\";position: absolute;border-left: 1px solid gray;box-sizing: border-box;top: 0;bottom: 0;left: 50%;z-index: 0;}#sk-container-id-1 div.sk-serial {display: flex;flex-direction: column;align-items: center;background-color: white;padding-right: 0.2em;padding-left: 0.2em;position: relative;}#sk-container-id-1 div.sk-item {position: relative;z-index: 1;}#sk-container-id-1 div.sk-parallel {display: flex;align-items: stretch;justify-content: center;background-color: white;position: relative;}#sk-container-id-1 div.sk-item::before, #sk-container-id-1 div.sk-parallel-item::before {content: \"\";position: absolute;border-left: 1px solid gray;box-sizing: border-box;top: 0;bottom: 0;left: 50%;z-index: -1;}#sk-container-id-1 div.sk-parallel-item {display: flex;flex-direction: column;z-index: 1;position: relative;background-color: white;}#sk-container-id-1 div.sk-parallel-item:first-child::after {align-self: flex-end;width: 50%;}#sk-container-id-1 div.sk-parallel-item:last-child::after {align-self: flex-start;width: 50%;}#sk-container-id-1 div.sk-parallel-item:only-child::after {width: 0;}#sk-container-id-1 div.sk-dashed-wrapped {border: 1px dashed gray;margin: 0 0.4em 0.5em 0.4em;box-sizing: border-box;padding-bottom: 0.4em;background-color: white;}#sk-container-id-1 div.sk-label label {font-family: monospace;font-weight: bold;display: inline-block;line-height: 1.2em;}#sk-container-id-1 div.sk-label-container {text-align: center;}#sk-container-id-1 div.sk-container {/* jupyter's `normalize.less` sets `[hidden] { display: none; }` but bootstrap.min.css set `[hidden] { display: none !important; }` so we also need the `!important` here to be able to override the default hidden behavior on the sphinx rendered scikit-learn.org. See: https://github.com/scikit-learn/scikit-learn/issues/21755 */display: inline-block !important;position: relative;}#sk-container-id-1 div.sk-text-repr-fallback {display: none;}</style><div id=\"sk-container-id-1\" class=\"sk-top-container\"><div class=\"sk-text-repr-fallback\"><pre>MultinomialNB()</pre><b>In a Jupyter environment, please rerun this cell to show the HTML representation or trust the notebook. <br />On GitHub, the HTML representation is unable to render, please try loading this page with nbviewer.org.</b></div><div class=\"sk-container\" hidden><div class=\"sk-item\"><div class=\"sk-estimator sk-toggleable\"><input class=\"sk-toggleable__control sk-hidden--visually\" id=\"sk-estimator-id-1\" type=\"checkbox\" checked><label for=\"sk-estimator-id-1\" class=\"sk-toggleable__label sk-toggleable__label-arrow\">MultinomialNB</label><div class=\"sk-toggleable__content\"><pre>MultinomialNB()</pre></div></div></div></div></div>"
            ]
          },
          "metadata": {},
          "execution_count": 23
        }
      ]
    },
    {
      "cell_type": "code",
      "source": [
        "y_pred = mnb.predict(tfidf_test_vectors)"
      ],
      "metadata": {
        "id": "XlSmxNZUXeG9"
      },
      "execution_count": null,
      "outputs": []
    },
    {
      "cell_type": "code",
      "source": [
        "accuray = accuracy_score(y_pred, y_test)\n",
        "f1 = f1_score(y_pred, y_test, average=\"weighted\")\n",
        "\n",
        "print(\"Accuracy:\", accuray)\n",
        "print(\"F1 Score:\", f1)"
      ],
      "metadata": {
        "colab": {
          "base_uri": "https://localhost:8080/"
        },
        "id": "lMrMd1KeX5PN",
        "outputId": "5c6fd4fe-b787-4086-b5af-12a56a85ea5a"
      },
      "execution_count": null,
      "outputs": [
        {
          "output_type": "stream",
          "name": "stdout",
          "text": [
            "Accuracy: 0.5474137931034483\n",
            "F1 Score: 0.6672478792069958\n"
          ]
        }
      ]
    },
    {
      "cell_type": "markdown",
      "source": [
        "Accuracy is increased with significant numbers!!\n",
        "\n",
        "*   Accuracy: 0.5474137931034483\n",
        "*   F1 Score: 0.6672478792069958\n"
      ],
      "metadata": {
        "id": "Wm6LjCKm6A04"
      }
    },
    {
      "cell_type": "markdown",
      "source": [
        "**3. Naive Bayes- Count Vectorizer**"
      ],
      "metadata": {
        "id": "vynbs1Vd6dpJ"
      }
    },
    {
      "cell_type": "code",
      "source": [
        "mnb_grid = {\n",
        "    'alpha': [0, 0.2, 0.5, 0.8, 1.0, 1.0],\n",
        "    'fit_prior' : [True, False],\n",
        "    'class_prior' : [None, [.4, .3, 0.08, .07, .06, .06], [.167, .167, .167, .167, .167, .167]]\n",
        "}\n",
        "mnb = MultinomialNB()\n",
        "mnb_tfidf_gs = GridSearchCV(mnb, param_grid = mnb_grid, cv = 5)\n",
        "mnb_tfidf_gs.fit(tfidf_train_vectors, y_train)\n",
        "print(mnb_tfidf_gs.best_score_)\n",
        "\n",
        "model_resultstfidf['Multinomial Bayes']= mnb_tfidf_gs.best_score_"
      ],
      "metadata": {
        "id": "-K_7oM1nIrFe",
        "colab": {
          "base_uri": "https://localhost:8080/"
        },
        "outputId": "9a0de9ed-8243-4162-a83d-5ae0eb08e83a"
      },
      "execution_count": null,
      "outputs": [
        {
          "output_type": "stream",
          "name": "stdout",
          "text": [
            "0.6022030651340997\n"
          ]
        }
      ]
    },
    {
      "cell_type": "markdown",
      "source": [
        "Accuracy is nominal !\n",
        "\n",
        "*   Accuracy: 0.6022030651340997\n"
      ],
      "metadata": {
        "id": "B3Pybn4Z6nIN"
      }
    },
    {
      "cell_type": "markdown",
      "source": [
        "**4. Logistic Regression - TF-IDF**"
      ],
      "metadata": {
        "id": "gXoF2IqZJvRT"
      }
    },
    {
      "cell_type": "code",
      "source": [
        "lr_grid = {\n",
        "    'penalty' : ['l1', 'l2', 'none'],\n",
        "    'C' : [1.0, 1e2, 1e4, 1e10],\n",
        "    'class_weight' : ['balanced', None],\n",
        "    'solver' : ['lbfgs', 'liblinear'],\n",
        "    'multi_class' : ['ovr', 'multinomial']\n",
        "}\n",
        "logreg = LogisticRegression(max_iter=1000,random_state = 42)\n",
        "\n",
        "logreg_tfidf_gs = GridSearchCV(logreg, param_grid = lr_grid, cv = 5)\n",
        "logreg_tfidf_gs.fit(tfidf_train_vectors, y_train)\n",
        "print(logreg_tfidf_gs.best_score_)\n",
        "model_resultstfidf['Logistic Regression'] = logreg_tfidf_gs.best_score_"
      ],
      "metadata": {
        "id": "t1ow0uheJmiE"
      },
      "execution_count": null,
      "outputs": []
    },
    {
      "cell_type": "markdown",
      "source": [
        "**3. Decision Tree- Count Vectorizer**"
      ],
      "metadata": {
        "id": "txybwclVLN_K"
      }
    },
    {
      "cell_type": "code",
      "source": [
        "model_results_cvec = {}\n",
        "grid = {\n",
        "    'criterion': ['gini', 'entropy'],\n",
        "    'max_depth': [1, 2, 5, 10],\n",
        "    'min_samples_split': [1, 5, 10, 20]\n",
        "}\n",
        "\n",
        "dt_clf = DecisionTreeClassifier (random_state = 42)\n",
        "gs_cvec_tree = GridSearchCV(dt_clf, param_grid = grid, cv = 5)\n",
        "gs_cvec_tree.fit(vec_Xtr, y_train)\n",
        "\n",
        "print(gs_cvec_tree.best_score_)\n",
        "model_results_cvec['Decision Tree'] = gs_cvec_tree.best_score_"
      ],
      "metadata": {
        "id": "RhzekwAMJ17P"
      },
      "execution_count": null,
      "outputs": []
    },
    {
      "cell_type": "markdown",
      "source": [
        "**4. Decision Tree- TF-IDF**"
      ],
      "metadata": {
        "id": "AXIZ4o1MYmAm"
      }
    },
    {
      "cell_type": "code",
      "source": [
        "grid = {\n",
        "    'criterion': ['gini', 'entropy'],\n",
        "    'max_depth': [1, 2, 5, 10],\n",
        "    'min_samples_split': [1, 5, 10, 20]\n",
        "}\n",
        "\n",
        "dt_clf = DecisionTreeClassifier (random_state = 42)\n",
        "gs_tfidf_tree = GridSearchCV(dt_clf, param_grid = grid, cv = 5)\n",
        "gs_tfidf_tree.fit(tfidf_train_vectors, y_train)\n",
        "\n",
        "print(gs_tfidf_tree.best_score_)\n",
        "model_resultstfidf['Decision Tree'] = gs_tfidf_tree.best_score_"
      ],
      "metadata": {
        "id": "cSkdJyJEYvfZ"
      },
      "execution_count": null,
      "outputs": []
    },
    {
      "cell_type": "markdown",
      "source": [
        "**4. SGD Classifier- Count Vectorizer**"
      ],
      "metadata": {
        "id": "R6Dd3qjbTdFO"
      }
    },
    {
      "cell_type": "code",
      "source": [
        "from sklearn.linear_model import SGDClassifier"
      ],
      "metadata": {
        "id": "OHTst6LBSXZf"
      },
      "execution_count": null,
      "outputs": []
    },
    {
      "cell_type": "code",
      "source": [
        "grid = {\n",
        "    'loss' : ['hinge', 'log'],\n",
        "    'penalty' : ['l2', 'l1'],\n",
        "    'alpha' : [1e-3, 1e-4, 1e-5],\n",
        "    'max_iter' : [10, 15, 20],\n",
        "    'class_weight' : ['balanced', None]\n",
        "}\n",
        "sgd = SGDClassifier(random_state=42)\n",
        "sgd_cvec_gs = GridSearchCV(sgd, param_grid = grid, cv=5)\n",
        "sgd_cvec_gs.fit(vec_Xtr, y_train)\n",
        "\n",
        "print(sgd_cvec_gs.best_score_)\n",
        "model_results_cvec['SGD'] = sgd_cvec_gs.best_score_"
      ],
      "metadata": {
        "id": "tV7BTuRUTjqi"
      },
      "execution_count": null,
      "outputs": []
    },
    {
      "cell_type": "markdown",
      "source": [
        "**5. SGD Classifier- TF-IDF**"
      ],
      "metadata": {
        "id": "F3VLUhyoUo7f"
      }
    },
    {
      "cell_type": "code",
      "source": [
        "grid = {\n",
        "    'loss' : ['hinge', 'log'],\n",
        "    'penalty' : ['l2', 'l1'],\n",
        "    'alpha' : [1e-3, 1e-4, 1e-5],\n",
        "    'max_iter' : [20, 25, 30],\n",
        "    'class_weight' : ['balanced', None]\n",
        "}\n",
        "sgd = SGDClassifier(random_state=42)\n",
        "sgd_tfidf_gs = GridSearchCV(sgd, param_grid = grid, cv=5)\n",
        "sgd_tfidf_gs.fit(tfidf_train_vectors, y_train)\n",
        "\n",
        "print(sgd_tfidf_gs.best_score_)\n",
        "model_resultstfidf['SGD'] = sgd_tfidf_gs.best_score_"
      ],
      "metadata": {
        "id": "eBU6mFOzTozK"
      },
      "execution_count": null,
      "outputs": []
    },
    {
      "cell_type": "code",
      "source": [
        "model_results_cvec=sorted(model_results_cvec.items())\n",
        "model_resultstfidf=sorted(model_resultstfidf.items())\n"
      ],
      "metadata": {
        "id": "TnxgtxeHZxDW"
      },
      "execution_count": null,
      "outputs": []
    },
    {
      "cell_type": "code",
      "source": [
        "model_results_cvec=dict(model_results_cvec)\n",
        "model_resultstfidf=dict(model_resultstfidf)"
      ],
      "metadata": {
        "id": "MV0CboE-bJl5"
      },
      "execution_count": null,
      "outputs": []
    },
    {
      "cell_type": "markdown",
      "source": [
        "##**Comparison of the Different Models and their Scores**"
      ],
      "metadata": {
        "id": "yLNaytC3WHF3"
      }
    },
    {
      "cell_type": "code",
      "source": [
        "print(model_resultstfidf)\n",
        "print('\\n',model_results_cvec)"
      ],
      "metadata": {
        "id": "W3ImKsaYXXC0"
      },
      "execution_count": null,
      "outputs": []
    },
    {
      "cell_type": "code",
      "source": [
        "import numpy as np\n",
        "tfidf_model_results = pd.DataFrame(model_resultstfidf.items(), columns=['model', 'accuracy_score'])\n",
        "count_vec_results = pd.DataFrame(model_results_cvec.items(), columns=['model', 'accuracy_score'])\n",
        "\n",
        "y1 = tfidf_model_results['accuracy_score']\n",
        "y2 = count_vec_results['accuracy_score']\n",
        "\n",
        "fig, ax = plt.subplots(figsize = (10,8))\n",
        "ind = np.arange(len(tfidf_model_results))\n",
        "\n",
        "width = 0.3\n",
        "plt.bar(ind, y1, width, color = 'orange')\n",
        "plt.bar(ind - width, y2, width,color = 'green')\n",
        "\n",
        "plt.title('Model Comparison')\n",
        "plt.xlabel('model')\n",
        "plt.ylabel('accuracy_score')\n",
        "plt.xticks(np.arange(3), ['multinomial bayes','decision tree', 'SGD'])\n",
        "plt.legend(['tfidf_model_results', 'count_vec_results'])"
      ],
      "metadata": {
        "id": "d3GHr1N6VOxU"
      },
      "execution_count": null,
      "outputs": []
    },
    {
      "cell_type": "code",
      "source": [],
      "metadata": {
        "id": "zUtyTHtMWdwk"
      },
      "execution_count": null,
      "outputs": []
    }
  ]
}